{
 "cells": [
  {
   "cell_type": "markdown",
   "metadata": {},
   "source": [
    "# Пишем сами: линейная регрессия\n",
    "* На этом занятии мы с вами напишем линейную регрессию самостоятельно и применим её для определения оптимальных доз инсулина для больных сахарным диабетом."
   ]
  },
  {
   "cell_type": "code",
   "execution_count": 92,
   "metadata": {
    "collapsed": true
   },
   "outputs": [],
   "source": [
    "#наши старые знакомые\n",
    "import pandas\n",
    "import numpy\n",
    "import matplotlib.pyplot as plt\n",
    "%matplotlib inline"
   ]
  },
  {
   "cell_type": "markdown",
   "metadata": {},
   "source": [
    "# Немного о диабете"
   ]
  },
  {
   "cell_type": "code",
   "execution_count": null,
   "metadata": {
    "collapsed": true
   },
   "outputs": [],
   "source": [
    "from sklearn.datasets import load_diabetes\n",
    "diabetes = load_diabetes()\n",
    "data = pandas.DataFrame(diabetes.data,columns = [\"q\"+str(i) for i in range(1,11)])\n",
    "data[\"doze\"] = diabetes.target"
   ]
  },
  {
   "cell_type": "code",
   "execution_count": null,
   "metadata": {
    "collapsed": true
   },
   "outputs": [],
   "source": [
    "#выведи размер базы данных\n"
   ]
  },
  {
   "cell_type": "code",
   "execution_count": null,
   "metadata": {
    "collapsed": false
   },
   "outputs": [],
   "source": [
    "#выведи первые 10 элементов data\n"
   ]
  },
  {
   "cell_type": "markdown",
   "metadata": {},
   "source": [
    "# зри в данные"
   ]
  },
  {
   "cell_type": "code",
   "execution_count": null,
   "metadata": {
    "collapsed": false
   },
   "outputs": [],
   "source": [
    "plt.hist(data[\"q0\"])"
   ]
  },
  {
   "cell_type": "code",
   "execution_count": null,
   "metadata": {
    "collapsed": false
   },
   "outputs": [],
   "source": [
    "#построй граффик по doze\n"
   ]
  },
  {
   "cell_type": "code",
   "execution_count": null,
   "metadata": {
    "collapsed": false
   },
   "outputs": [],
   "source": [
    "#вычисли среднюю дозу\n",
    "average_doze = <твой код>\n",
    "print average_doze"
   ]
  },
  {
   "cell_type": "code",
   "execution_count": null,
   "metadata": {
    "collapsed": false
   },
   "outputs": [],
   "source": [
    "plt.scatter(data[\"q0\"],data[\"q2\"],c = data[\"doze\"]/numpy.max(data[\"doze\"]))"
   ]
  },
  {
   "cell_type": "code",
   "execution_count": null,
   "metadata": {
    "collapsed": false
   },
   "outputs": [],
   "source": [
    "#построй scatter (граффик из точек) для q3, q6\n"
   ]
  },
  {
   "cell_type": "markdown",
   "metadata": {},
   "source": [
    "# обучение и тест"
   ]
  },
  {
   "cell_type": "code",
   "execution_count": null,
   "metadata": {
    "collapsed": true
   },
   "outputs": [],
   "source": [
    "#выдели в данных признаки (X) и целевое значение (Y)\n",
    "X = <твой код>\n",
    "Y = <твой код>"
   ]
  },
  {
   "cell_type": "code",
   "execution_count": null,
   "metadata": {
    "collapsed": true
   },
   "outputs": [],
   "source": [
    "#добавь в X признак-единицу как колонку \"q0\"\n"
   ]
  },
  {
   "cell_type": "code",
   "execution_count": null,
   "metadata": {
    "collapsed": false
   },
   "outputs": [],
   "source": [
    "a1 = [1,2,3,4,5]\n",
    "a2 = [5,4,3,2,1]\n",
    "from sklearn.cross_validation import train_test_split\n",
    "\n",
    "print train_test_split(a1,a2, train_size = 0.6)"
   ]
  },
  {
   "cell_type": "code",
   "execution_count": null,
   "metadata": {
    "collapsed": true
   },
   "outputs": [],
   "source": [
    "#раздели данные на обучение и тест (размер обучающей выборки - три четверти)\n",
    "X_train,X_test,Y_train,Y_test = <твой код>"
   ]
  },
  {
   "cell_type": "code",
   "execution_count": null,
   "metadata": {
    "collapsed": true
   },
   "outputs": [],
   "source": [
    "#посчитай размеры обучающих и тестовых данных\n"
   ]
  },
  {
   "cell_type": "markdown",
   "metadata": {},
   "source": [
    "# обучение модели"
   ]
  },
  {
   "cell_type": "code",
   "execution_count": null,
   "metadata": {
    "collapsed": false
   },
   "outputs": [],
   "source": [
    "def predict(W,X):\n",
    "    \"\"\"получить прогноз h(X|w)\"\"\"\n",
    "    \n",
    "    size = <твой код> #размерность ответа\n",
    "    \n",
    "    pred = []\n",
    "    for i in range(size):\n",
    "        \n",
    "        X_i = <твой код> #i-тая строчка выборки примеров\n",
    "        pred_i = <твой код> #прогноз модели для i-той строчки\n",
    "        \n",
    "        pred.append(pred_i) #предсказание модели для него\n",
    "        \n",
    "    return numpy.array(pred)"
   ]
  },
  {
   "cell_type": "code",
   "execution_count": null,
   "metadata": {
    "collapsed": false
   },
   "outputs": [],
   "source": [
    "W =  numpy.array([-0.5,0.5,-0.5,0.5,-0.5,-0.5,0.5,0.5,0.5,-0.5,150])\n",
    "pred = predict(W,X)\n",
    "print pred.shape\n",
    "print pred[:10]\n"
   ]
  },
  {
   "cell_type": "code",
   "execution_count": null,
   "metadata": {
    "collapsed": false
   },
   "outputs": [],
   "source": [
    "def loss(X,Y,W):\n",
    "    \"напиши функцию потерь, J(X,Y,W)\"\n",
    "    \n",
    "    pred = <твой код> #предсказание по модели\n",
    "    \n",
    "    error = <твой код> #вектор разностей предсказаний и реальных значений\n",
    "    \n",
    "    squared_error = <твой код> #вектор из квадратов ошибок\n",
    "    \n",
    "    mean_squared_error = <твой код> #среднее по ним\n",
    "    return mean_squared_error\n"
   ]
  },
  {
   "cell_type": "code",
   "execution_count": null,
   "metadata": {
    "collapsed": false
   },
   "outputs": [],
   "source": [
    "mse = loss(X,Y,W)\n",
    "print mse.shape\n",
    "print mse[:10]"
   ]
  },
  {
   "cell_type": "code",
   "execution_count": null,
   "metadata": {
    "collapsed": true
   },
   "outputs": [],
   "source": [
    "def gradient(X,Y,W):\n",
    "    \"посчитай вектор градиента функции потерь\"\n",
    "    len_gradient = <твой код> #размер вектора градиента\n",
    "    \n",
    "    #твои вспомогательные вычисления\n",
    "    \n",
    "    gradient = <твой код>\n",
    "    \n",
    "    return gradient"
   ]
  },
  {
   "cell_type": "code",
   "execution_count": null,
   "metadata": {
    "collapsed": true
   },
   "outputs": [],
   "source": [
    "grad = loss(X,Y,W)\n",
    "print grad.shape\n",
    "print grad"
   ]
  },
  {
   "cell_type": "code",
   "execution_count": null,
   "metadata": {
    "collapsed": false
   },
   "outputs": [],
   "source": [
    "def train_model(X,Y, step = 0.1,n_steps = 100):\n",
    "    #создадим нулевой вектор весов\n",
    "    len_w = <твой код> #сколько должно быть весов\n",
    "    W = numpy.zeros(len_w)\n",
    "    \n",
    "    for i in range(n_steps):\n",
    "        \n",
    "        gradient = <твой код> #вектор антиградиента\n",
    "        \n",
    "        W = <твой код> #новый вектор весов\n",
    "        \n",
    "        #loss = <твой код>\n",
    "        #print loss\n",
    "    return W"
   ]
  },
  {
   "cell_type": "markdown",
   "metadata": {},
   "source": [
    "# оценка качества модели"
   ]
  },
  {
   "cell_type": "code",
   "execution_count": null,
   "metadata": {
    "collapsed": true
   },
   "outputs": [],
   "source": [
    "#обучи модель на тренировочной выборке\n",
    "W = <твой код>"
   ]
  },
  {
   "cell_type": "code",
   "execution_count": null,
   "metadata": {
    "collapsed": true
   },
   "outputs": [],
   "source": [
    "#получи прогноз на тренировочной и тестовой выборке\n",
    "Y_train_predict = <твой код>\n",
    "Y_test_predict = <твой код>"
   ]
  },
  {
   "cell_type": "code",
   "execution_count": null,
   "metadata": {
    "collapsed": true
   },
   "outputs": [],
   "source": [
    "#посчитай среднеквадратичные ошибки\n",
    "print \"ошибка на X_train:\",<твой код>\n",
    "print \"ошибка на X_test:\", <твой код>"
   ]
  }
 ],
 "metadata": {
  "kernelspec": {
   "display_name": "Python 2",
   "language": "python",
   "name": "python2"
  },
  "language_info": {
   "codemirror_mode": {
    "name": "ipython",
    "version": 2
   },
   "file_extension": ".py",
   "mimetype": "text/x-python",
   "name": "python",
   "nbconvert_exporter": "python",
   "pygments_lexer": "ipython2",
   "version": "2.7.6"
  }
 },
 "nbformat": 4,
 "nbformat_minor": 0
}
